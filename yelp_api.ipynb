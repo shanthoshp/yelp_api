{
 "cells": [
  {
   "cell_type": "code",
   "execution_count": 1,
   "metadata": {},
   "outputs": [],
   "source": [
    "from yelpapi import YelpAPI\n",
    "import argparse\n",
    "from pprint import pprint\n",
    "import json\n",
    "\n",
    "#Generate random integer values\n",
    "from random import seed\n",
    "from random import randint"
   ]
  },
  {
   "cell_type": "code",
   "execution_count": 2,
   "metadata": {},
   "outputs": [],
   "source": [
    "#API Auth\n",
    "api_key = \"G85Tg41oW0Vh2TN0ury4V5n_wxVF9bgDBYf7r2G1tnVcABzWraZlAoEgx8oCO_7Fmdg_NMsyHJngzh-tcB3cy06b-HunvXQVoEqIwLA-U8MK8d0a2DLEFY4BfnThXXYx\"\n",
    "yelp_api = YelpAPI(api_key)"
   ]
  },
  {
   "cell_type": "code",
   "execution_count": null,
   "metadata": {},
   "outputs": [],
   "source": [
    "#Get all SF restaurants\n",
    "maxCount = True\n",
    "sf_restaurants = []\n",
    "i = 0\n",
    "\n",
    "while (maxCount == True):\n",
    "    sf_restaurants.append(yelp_api.search_query(categories='restaurants', location='san francisco', limit=1, offset=i))\n",
    "    i = i + 2;\n",
    "    if (i >= 1000): \n",
    "        maxCount = False;"
   ]
  },
  {
   "cell_type": "code",
   "execution_count": null,
   "metadata": {},
   "outputs": [],
   "source": [
    "#Get all SF Physicians\n",
    "maxCount = True\n",
    "sf_health = []\n",
    "i = 0\n",
    "\n",
    "while (maxCount == True):\n",
    "    sf_health.append(yelp_api.search_query(categories='physicians', location='san francisco', limit=1, offset=i))\n",
    "    i = i + 2;\n",
    "    if (i >= 1000): \n",
    "        maxCount = False;"
   ]
  },
  {
   "cell_type": "code",
   "execution_count": null,
   "metadata": {},
   "outputs": [],
   "source": [
    "#Get all SF Hotels\n",
    "maxCount = True\n",
    "sf_hotel = []\n",
    "i = 0\n",
    "\n",
    "while (maxCount == True):\n",
    "    sf_hotel.append(yelp_api.search_query(categories='hotels', location='san francisco', limit=1, offset=i))\n",
    "    i = i + 1;\n",
    "    if (i >= 183): \n",
    "        maxCount = False;"
   ]
  },
  {
   "cell_type": "code",
   "execution_count": null,
   "metadata": {},
   "outputs": [],
   "source": [
    "#Get all Phoenix restaurants\n",
    "maxCount = True\n",
    "phoenix_restaurants = []\n",
    "i = 0\n",
    "\n",
    "while (maxCount == True):\n",
    "    phoenix_restaurants.append(yelp_api.search_query(categories='restaurants', location='phoenix', limit=1, offset=i))\n",
    "    i = i + 2;\n",
    "    if (i >= 800): \n",
    "        maxCount = False;"
   ]
  },
  {
   "cell_type": "code",
   "execution_count": null,
   "metadata": {},
   "outputs": [],
   "source": [
    "#Get all Phoenix Physicians\n",
    "maxCount = True\n",
    "phoenix_health = []\n",
    "i = 0\n",
    "\n",
    "while (maxCount == True):\n",
    "    phoenix_health.append(yelp_api.search_query(categories='physicians', location='phoenix', limit=1, offset=i))\n",
    "    i = i + 1;\n",
    "    if (i >= 500): \n",
    "        maxCount = False;"
   ]
  },
  {
   "cell_type": "code",
   "execution_count": null,
   "metadata": {},
   "outputs": [],
   "source": [
    "#Get all Phoenix Hotels\n",
    "maxCount = True\n",
    "phoenix_hotels = []\n",
    "i = 0\n",
    "\n",
    "while (maxCount == True):\n",
    "    phoenix_hotels.append(yelp_api.search_query(categories='hotels', location='phoenix', limit=1, offset=i))\n",
    "    i = i + 1;\n",
    "    if (i >= 150): \n",
    "        maxCount = False;"
   ]
  },
  {
   "cell_type": "code",
   "execution_count": null,
   "metadata": {},
   "outputs": [],
   "source": [
    "#Random Number Generator \n",
    "rn_sf_restaurants = []\n",
    "rn_sf_health = []\n",
    "rn_sf_hotels = []\n",
    "\n",
    "rn_phoenix_restaurants = []\n",
    "rn_phoenix_health = []\n",
    "rn_phoenix_hotels = []\n",
    "\n",
    "# seed random number generator\n",
    "seed(1)\n",
    "# generate some integers\n",
    "for _ in range(100):\n",
    "    value = randint(0, 499)\n",
    "    rn_sf_restaurants.append(value)\n",
    "    \n",
    "for _ in range(100):\n",
    "    value = randint(0, 499)\n",
    "    rn_sf_health.append(value)\n",
    "    \n",
    "for _ in range(100):\n",
    "    value = randint(0, 182)\n",
    "    rn_sf_hotels.append(value)\n",
    "\n",
    "for _ in range(100):\n",
    "    value = randint(0, 300)\n",
    "    rn_phoenix_restaurants.append(value)\n",
    "    \n",
    "for _ in range(100):\n",
    "    value = randint(0, 499)\n",
    "    rn_phoenix_health.append(value)\n",
    "    \n",
    "for _ in range(100):\n",
    "    value = randint(0, 149)\n",
    "    rn_phoenix_hotels.append(value)"
   ]
  },
  {
   "cell_type": "code",
   "execution_count": null,
   "metadata": {},
   "outputs": [],
   "source": [
    "#Store random objects\n",
    "new_sf_restaurants = []\n",
    "new_sf_health = []\n",
    "new_sf_hotels = []\n",
    "\n",
    "new_phoenix_restaurants = []\n",
    "new_phoenix_health = []\n",
    "new_phoenix_hotels = []\n",
    "\n",
    "for i in rn_sf_restaurants:\n",
    "    new_sf_restaurants.append(sf_restaurants[i]['businesses'][0])\n",
    "    \n",
    "for i in rn_sf_health:\n",
    "    new_sf_health.append(sf_health[i]['businesses'][0])\n",
    "    \n",
    "for i in rn_sf_hotels:\n",
    "    new_sf_hotels.append(sf_hotel[i]['businesses'][0])\n",
    "    \n",
    "for i in rn_phoenix_restaurants:\n",
    "    new_phoenix_restaurants.append(phoenix_restaurants[i]['businesses'][0])\n",
    "    \n",
    "for i in rn_phoenix_health:\n",
    "    new_phoenix_health.append(phoenix_health[i]['businesses'][0])\n",
    "    \n",
    "for i in rn_phoenix_hotels:\n",
    "    new_phoenix_hotels.append(phoenix_hotels[i]['businesses'][0])"
   ]
  },
  {
   "cell_type": "code",
   "execution_count": null,
   "metadata": {},
   "outputs": [],
   "source": [
    "#Put in dataframe\n",
    "import pandas as pd\n",
    "\n",
    "df1 = pd.DataFrame(new_sf_restaurants)\n",
    "df1.to_csv('sf_restaurants.csv', index=False)\n",
    "\n",
    "df2 = pd.DataFrame(new_sf_health)\n",
    "df2.to_csv('sf_doctors.csv', index=False)\n",
    "\n",
    "df3 = pd.DataFrame(new_sf_hotels)\n",
    "df3.to_csv('sf_hotels.csv', index=False)\n",
    "\n",
    "df4 = pd.DataFrame(new_phoenix_restaurants)\n",
    "df4.to_csv('phx_restaurants.csv', index=False)\n",
    "\n",
    "df5 = pd.DataFrame(new_phoenix_health)\n",
    "df5.to_csv('phx_doctors.csv', index=False)\n",
    "\n",
    "df6 = pd.DataFrame(new_phoenix_hotels)\n",
    "df6.to_csv('phx_hotels.csv', index=False)"
   ]
  }
 ],
 "metadata": {
  "kernelspec": {
   "display_name": "Python 3",
   "language": "python",
   "name": "python3"
  },
  "language_info": {
   "codemirror_mode": {
    "name": "ipython",
    "version": 3
   },
   "file_extension": ".py",
   "mimetype": "text/x-python",
   "name": "python",
   "nbconvert_exporter": "python",
   "pygments_lexer": "ipython3",
   "version": "3.7.1"
  }
 },
 "nbformat": 4,
 "nbformat_minor": 2
}
